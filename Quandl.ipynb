{
  "nbformat": 4,
  "nbformat_minor": 0,
  "metadata": {
    "colab": {
      "name": "Quandl.ipynb",
      "provenance": [],
      "authorship_tag": "ABX9TyNuLdzTRB4X2kiEa9yOHWdk"
    },
    "kernelspec": {
      "name": "python3",
      "display_name": "Python 3"
    }
  },
  "cells": [
    {
      "cell_type": "code",
      "metadata": {
        "id": "GzVzujbgZ0cO",
        "colab_type": "code",
        "colab": {}
      },
      "source": [
        "!pip install quandl"
      ],
      "execution_count": 0,
      "outputs": []
    },
    {
      "cell_type": "code",
      "metadata": {
        "id": "yvnx8ENYZ-p1",
        "colab_type": "code",
        "colab": {}
      },
      "source": [
        "import quandl"
      ],
      "execution_count": 0,
      "outputs": []
    },
    {
      "cell_type": "code",
      "metadata": {
        "id": "zOuuWTc1aIrb",
        "colab_type": "code",
        "colab": {
          "base_uri": "https://localhost:8080/",
          "height": 34
        },
        "outputId": "5cf9a6e2-24ef-401f-b266-376668a862aa"
      },
      "source": [
        "aapl = quandl.get('WIKI/AAPL', start_date='2012-10-01', end_date='2017-01-01')# use collapse = monthly to get monthly data\n",
        "type(aapl)"
      ],
      "execution_count": 3,
      "outputs": [
        {
          "output_type": "execute_result",
          "data": {
            "text/plain": [
              "pandas.core.frame.DataFrame"
            ]
          },
          "metadata": {
            "tags": []
          },
          "execution_count": 3
        }
      ]
    },
    {
      "cell_type": "code",
      "metadata": {
        "id": "5-nea7JxajC_",
        "colab_type": "code",
        "colab": {
          "base_uri": "https://localhost:8080/",
          "height": 34
        },
        "outputId": "6fcc96f9-609c-4780-e44f-17acb8a76493"
      },
      "source": [
        "aapl_np = quandl.get('WIKI/AAPL', start_date='2012-10-01', end_date='2017-01-01', returns='numpy')\n",
        "type(aapl_np)"
      ],
      "execution_count": 5,
      "outputs": [
        {
          "output_type": "execute_result",
          "data": {
            "text/plain": [
              "numpy.recarray"
            ]
          },
          "metadata": {
            "tags": []
          },
          "execution_count": 5
        }
      ]
    },
    {
      "cell_type": "code",
      "metadata": {
        "id": "Tjrp2iRmaub-",
        "colab_type": "code",
        "colab": {
          "base_uri": "https://localhost:8080/",
          "height": 328
        },
        "outputId": "aea3da31-299b-40ba-a604-1a8a5c95d65f"
      },
      "source": [
        "aapl.head()"
      ],
      "execution_count": 6,
      "outputs": [
        {
          "output_type": "execute_result",
          "data": {
            "text/html": [
              "<div>\n",
              "<style scoped>\n",
              "    .dataframe tbody tr th:only-of-type {\n",
              "        vertical-align: middle;\n",
              "    }\n",
              "\n",
              "    .dataframe tbody tr th {\n",
              "        vertical-align: top;\n",
              "    }\n",
              "\n",
              "    .dataframe thead th {\n",
              "        text-align: right;\n",
              "    }\n",
              "</style>\n",
              "<table border=\"1\" class=\"dataframe\">\n",
              "  <thead>\n",
              "    <tr style=\"text-align: right;\">\n",
              "      <th></th>\n",
              "      <th>Open</th>\n",
              "      <th>High</th>\n",
              "      <th>Low</th>\n",
              "      <th>Close</th>\n",
              "      <th>Volume</th>\n",
              "      <th>Ex-Dividend</th>\n",
              "      <th>Split Ratio</th>\n",
              "      <th>Adj. Open</th>\n",
              "      <th>Adj. High</th>\n",
              "      <th>Adj. Low</th>\n",
              "      <th>Adj. Close</th>\n",
              "      <th>Adj. Volume</th>\n",
              "    </tr>\n",
              "    <tr>\n",
              "      <th>Date</th>\n",
              "      <th></th>\n",
              "      <th></th>\n",
              "      <th></th>\n",
              "      <th></th>\n",
              "      <th></th>\n",
              "      <th></th>\n",
              "      <th></th>\n",
              "      <th></th>\n",
              "      <th></th>\n",
              "      <th></th>\n",
              "      <th></th>\n",
              "      <th></th>\n",
              "    </tr>\n",
              "  </thead>\n",
              "  <tbody>\n",
              "    <tr>\n",
              "      <th>2012-10-01</th>\n",
              "      <td>671.50</td>\n",
              "      <td>676.75</td>\n",
              "      <td>656.50</td>\n",
              "      <td>659.39</td>\n",
              "      <td>19414100.0</td>\n",
              "      <td>0.0</td>\n",
              "      <td>1.0</td>\n",
              "      <td>86.665526</td>\n",
              "      <td>87.343104</td>\n",
              "      <td>84.729587</td>\n",
              "      <td>85.102578</td>\n",
              "      <td>135898700.0</td>\n",
              "    </tr>\n",
              "    <tr>\n",
              "      <th>2012-10-02</th>\n",
              "      <td>661.81</td>\n",
              "      <td>666.35</td>\n",
              "      <td>650.65</td>\n",
              "      <td>661.31</td>\n",
              "      <td>22428300.0</td>\n",
              "      <td>0.0</td>\n",
              "      <td>1.0</td>\n",
              "      <td>85.414909</td>\n",
              "      <td>86.000854</td>\n",
              "      <td>83.974571</td>\n",
              "      <td>85.350378</td>\n",
              "      <td>156998100.0</td>\n",
              "    </tr>\n",
              "    <tr>\n",
              "      <th>2012-10-03</th>\n",
              "      <td>664.86</td>\n",
              "      <td>671.86</td>\n",
              "      <td>662.63</td>\n",
              "      <td>671.45</td>\n",
              "      <td>15152900.0</td>\n",
              "      <td>0.0</td>\n",
              "      <td>1.0</td>\n",
              "      <td>85.808550</td>\n",
              "      <td>86.711988</td>\n",
              "      <td>85.520741</td>\n",
              "      <td>86.659073</td>\n",
              "      <td>106070300.0</td>\n",
              "    </tr>\n",
              "    <tr>\n",
              "      <th>2012-10-04</th>\n",
              "      <td>671.25</td>\n",
              "      <td>674.25</td>\n",
              "      <td>665.55</td>\n",
              "      <td>666.80</td>\n",
              "      <td>13240200.0</td>\n",
              "      <td>0.0</td>\n",
              "      <td>1.0</td>\n",
              "      <td>86.633260</td>\n",
              "      <td>87.020448</td>\n",
              "      <td>85.897604</td>\n",
              "      <td>86.058932</td>\n",
              "      <td>92681400.0</td>\n",
              "    </tr>\n",
              "    <tr>\n",
              "      <th>2012-10-05</th>\n",
              "      <td>665.20</td>\n",
              "      <td>666.00</td>\n",
              "      <td>651.28</td>\n",
              "      <td>652.59</td>\n",
              "      <td>21214500.0</td>\n",
              "      <td>0.0</td>\n",
              "      <td>1.0</td>\n",
              "      <td>85.852432</td>\n",
              "      <td>85.955682</td>\n",
              "      <td>84.055880</td>\n",
              "      <td>84.224952</td>\n",
              "      <td>148501500.0</td>\n",
              "    </tr>\n",
              "  </tbody>\n",
              "</table>\n",
              "</div>"
            ],
            "text/plain": [
              "              Open    High     Low  ...   Adj. Low  Adj. Close  Adj. Volume\n",
              "Date                                ...                                    \n",
              "2012-10-01  671.50  676.75  656.50  ...  84.729587   85.102578  135898700.0\n",
              "2012-10-02  661.81  666.35  650.65  ...  83.974571   85.350378  156998100.0\n",
              "2012-10-03  664.86  671.86  662.63  ...  85.520741   86.659073  106070300.0\n",
              "2012-10-04  671.25  674.25  665.55  ...  85.897604   86.058932   92681400.0\n",
              "2012-10-05  665.20  666.00  651.28  ...  84.055880   84.224952  148501500.0\n",
              "\n",
              "[5 rows x 12 columns]"
            ]
          },
          "metadata": {
            "tags": []
          },
          "execution_count": 6
        }
      ]
    }
  ]
}