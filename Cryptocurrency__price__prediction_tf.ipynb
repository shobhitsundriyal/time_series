{
  "nbformat": 4,
  "nbformat_minor": 0,
  "metadata": {
    "colab": {
      "name": "Cryptocurrency _price _prediction_tf.ipynb",
      "provenance": [],
      "authorship_tag": "ABX9TyNEVw8nthcetTTiaVnVtp/n",
      "include_colab_link": true
    },
    "kernelspec": {
      "name": "python3",
      "display_name": "Python 3"
    }
  },
  "cells": [
    {
      "cell_type": "markdown",
      "metadata": {
        "id": "view-in-github",
        "colab_type": "text"
      },
      "source": [
        "<a href=\"https://colab.research.google.com/github/shobhitsundriyal/time_series/blob/master/Cryptocurrency__price__prediction_tf.ipynb\" target=\"_parent\"><img src=\"https://colab.research.google.com/assets/colab-badge.svg\" alt=\"Open In Colab\"/></a>"
      ]
    },
    {
      "cell_type": "code",
      "metadata": {
        "id": "LwjIeQBLidiD",
        "colab_type": "code",
        "colab": {
          "base_uri": "https://localhost:8080/",
          "height": 72
        },
        "outputId": "6368b62a-c80b-4de2-ee74-990c8bed1dad"
      },
      "source": [
        "import numpy as np\n",
        "import tensorflow as tf\n",
        "from tensorflow import keras\n",
        "import pandas as pd\n",
        "import seaborn as sns\n",
        "import matplotlib.pyplot as plt\n",
        "from matplotlib import rc"
      ],
      "execution_count": 1,
      "outputs": [
        {
          "output_type": "stream",
          "text": [
            "/usr/local/lib/python3.6/dist-packages/statsmodels/tools/_testing.py:19: FutureWarning: pandas.util.testing is deprecated. Use the functions in the public API at pandas.testing instead.\n",
            "  import pandas.util.testing as tm\n"
          ],
          "name": "stderr"
        }
      ]
    },
    {
      "cell_type": "code",
      "metadata": {
        "id": "wwEjrR27lnoT",
        "colab_type": "code",
        "colab": {}
      },
      "source": [
        "sns.set(rc={'figure.figsize':(12, 8)})\n",
        "sns.set(style='whitegrid', palette='muted')\n",
        "RANDOM_SEED = 777\n",
        "np.random.seed(RANDOM_SEED)\n",
        "tf.random.set_seed(RANDOM_SEED)"
      ],
      "execution_count": 0,
      "outputs": []
    },
    {
      "cell_type": "code",
      "metadata": {
        "id": "onbOLb3yloHd",
        "colab_type": "code",
        "colab": {
          "base_uri": "https://localhost:8080/",
          "height": 198
        },
        "outputId": "fa27e880-52d5-4fe2-e47c-5ae9aec36df9"
      },
      "source": [
        "url = \"https://raw.githubusercontent.com/curiousily/Deep-Learning-For-Hackers/master/data/3.stock-prediction/BTC-USD.csv\"\n",
        "df = pd.read_csv(url, parse_dates=['Date'])\n",
        "df = df.sort_values('Date')\n",
        "df.head()"
      ],
      "execution_count": 4,
      "outputs": [
        {
          "output_type": "execute_result",
          "data": {
            "text/html": [
              "<div>\n",
              "<style scoped>\n",
              "    .dataframe tbody tr th:only-of-type {\n",
              "        vertical-align: middle;\n",
              "    }\n",
              "\n",
              "    .dataframe tbody tr th {\n",
              "        vertical-align: top;\n",
              "    }\n",
              "\n",
              "    .dataframe thead th {\n",
              "        text-align: right;\n",
              "    }\n",
              "</style>\n",
              "<table border=\"1\" class=\"dataframe\">\n",
              "  <thead>\n",
              "    <tr style=\"text-align: right;\">\n",
              "      <th></th>\n",
              "      <th>Date</th>\n",
              "      <th>Open</th>\n",
              "      <th>High</th>\n",
              "      <th>Low</th>\n",
              "      <th>Close</th>\n",
              "      <th>Adj Close</th>\n",
              "      <th>Volume</th>\n",
              "    </tr>\n",
              "  </thead>\n",
              "  <tbody>\n",
              "    <tr>\n",
              "      <th>0</th>\n",
              "      <td>2010-07-16</td>\n",
              "      <td>0.04951</td>\n",
              "      <td>0.04951</td>\n",
              "      <td>0.04951</td>\n",
              "      <td>0.04951</td>\n",
              "      <td>0.04951</td>\n",
              "      <td>0</td>\n",
              "    </tr>\n",
              "    <tr>\n",
              "      <th>1</th>\n",
              "      <td>2010-07-17</td>\n",
              "      <td>0.04951</td>\n",
              "      <td>0.08585</td>\n",
              "      <td>0.05941</td>\n",
              "      <td>0.08584</td>\n",
              "      <td>0.08584</td>\n",
              "      <td>5</td>\n",
              "    </tr>\n",
              "    <tr>\n",
              "      <th>2</th>\n",
              "      <td>2010-07-18</td>\n",
              "      <td>0.08584</td>\n",
              "      <td>0.09307</td>\n",
              "      <td>0.07723</td>\n",
              "      <td>0.08080</td>\n",
              "      <td>0.08080</td>\n",
              "      <td>49</td>\n",
              "    </tr>\n",
              "    <tr>\n",
              "      <th>3</th>\n",
              "      <td>2010-07-19</td>\n",
              "      <td>0.08080</td>\n",
              "      <td>0.08181</td>\n",
              "      <td>0.07426</td>\n",
              "      <td>0.07474</td>\n",
              "      <td>0.07474</td>\n",
              "      <td>20</td>\n",
              "    </tr>\n",
              "    <tr>\n",
              "      <th>4</th>\n",
              "      <td>2010-07-20</td>\n",
              "      <td>0.07474</td>\n",
              "      <td>0.07921</td>\n",
              "      <td>0.06634</td>\n",
              "      <td>0.07921</td>\n",
              "      <td>0.07921</td>\n",
              "      <td>42</td>\n",
              "    </tr>\n",
              "  </tbody>\n",
              "</table>\n",
              "</div>"
            ],
            "text/plain": [
              "        Date     Open     High      Low    Close  Adj Close  Volume\n",
              "0 2010-07-16  0.04951  0.04951  0.04951  0.04951    0.04951       0\n",
              "1 2010-07-17  0.04951  0.08585  0.05941  0.08584    0.08584       5\n",
              "2 2010-07-18  0.08584  0.09307  0.07723  0.08080    0.08080      49\n",
              "3 2010-07-19  0.08080  0.08181  0.07426  0.07474    0.07474      20\n",
              "4 2010-07-20  0.07474  0.07921  0.06634  0.07921    0.07921      42"
            ]
          },
          "metadata": {
            "tags": []
          },
          "execution_count": 4
        }
      ]
    },
    {
      "cell_type": "code",
      "metadata": {
        "id": "uLUUVv64nxg7",
        "colab_type": "code",
        "colab": {
          "base_uri": "https://localhost:8080/",
          "height": 198
        },
        "outputId": "6aced0be-2902-4eb7-a896-4cdeea66e67b"
      },
      "source": [
        "df.tail()"
      ],
      "execution_count": 8,
      "outputs": [
        {
          "output_type": "execute_result",
          "data": {
            "text/html": [
              "<div>\n",
              "<style scoped>\n",
              "    .dataframe tbody tr th:only-of-type {\n",
              "        vertical-align: middle;\n",
              "    }\n",
              "\n",
              "    .dataframe tbody tr th {\n",
              "        vertical-align: top;\n",
              "    }\n",
              "\n",
              "    .dataframe thead th {\n",
              "        text-align: right;\n",
              "    }\n",
              "</style>\n",
              "<table border=\"1\" class=\"dataframe\">\n",
              "  <thead>\n",
              "    <tr style=\"text-align: right;\">\n",
              "      <th></th>\n",
              "      <th>Date</th>\n",
              "      <th>Open</th>\n",
              "      <th>High</th>\n",
              "      <th>Low</th>\n",
              "      <th>Close</th>\n",
              "      <th>Adj Close</th>\n",
              "      <th>Volume</th>\n",
              "    </tr>\n",
              "  </thead>\n",
              "  <tbody>\n",
              "    <tr>\n",
              "      <th>3196</th>\n",
              "      <td>2019-04-16</td>\n",
              "      <td>5212.810059</td>\n",
              "      <td>5270.759766</td>\n",
              "      <td>5190.810059</td>\n",
              "      <td>5236.259766</td>\n",
              "      <td>5236.259766</td>\n",
              "      <td>194699629</td>\n",
              "    </tr>\n",
              "    <tr>\n",
              "      <th>3197</th>\n",
              "      <td>2019-04-17</td>\n",
              "      <td>5236.259766</td>\n",
              "      <td>5317.779785</td>\n",
              "      <td>5232.990234</td>\n",
              "      <td>5289.750000</td>\n",
              "      <td>5289.750000</td>\n",
              "      <td>187312150</td>\n",
              "    </tr>\n",
              "    <tr>\n",
              "      <th>3198</th>\n",
              "      <td>2019-04-18</td>\n",
              "      <td>5289.750000</td>\n",
              "      <td>5353.009766</td>\n",
              "      <td>5212.180176</td>\n",
              "      <td>5295.529785</td>\n",
              "      <td>5295.529785</td>\n",
              "      <td>158699049</td>\n",
              "    </tr>\n",
              "    <tr>\n",
              "      <th>3199</th>\n",
              "      <td>2019-04-19</td>\n",
              "      <td>5295.529785</td>\n",
              "      <td>5366.600098</td>\n",
              "      <td>5274.450195</td>\n",
              "      <td>5326.180176</td>\n",
              "      <td>5326.180176</td>\n",
              "      <td>123577001</td>\n",
              "    </tr>\n",
              "    <tr>\n",
              "      <th>3200</th>\n",
              "      <td>2019-04-20</td>\n",
              "      <td>5326.180176</td>\n",
              "      <td>5348.589844</td>\n",
              "      <td>5232.770020</td>\n",
              "      <td>5305.740234</td>\n",
              "      <td>5305.740234</td>\n",
              "      <td>134681237</td>\n",
              "    </tr>\n",
              "  </tbody>\n",
              "</table>\n",
              "</div>"
            ],
            "text/plain": [
              "           Date         Open         High  ...        Close    Adj Close     Volume\n",
              "3196 2019-04-16  5212.810059  5270.759766  ...  5236.259766  5236.259766  194699629\n",
              "3197 2019-04-17  5236.259766  5317.779785  ...  5289.750000  5289.750000  187312150\n",
              "3198 2019-04-18  5289.750000  5353.009766  ...  5295.529785  5295.529785  158699049\n",
              "3199 2019-04-19  5295.529785  5366.600098  ...  5326.180176  5326.180176  123577001\n",
              "3200 2019-04-20  5326.180176  5348.589844  ...  5305.740234  5305.740234  134681237\n",
              "\n",
              "[5 rows x 7 columns]"
            ]
          },
          "metadata": {
            "tags": []
          },
          "execution_count": 8
        }
      ]
    },
    {
      "cell_type": "markdown",
      "metadata": {
        "id": "imGxtDQ_n8OV",
        "colab_type": "text"
      },
      "source": [
        "Closing Price. \"Closing price\" generally refers to the last price at which a stock trades during a regular trading session.</br>\n",
        "So \"Close\" is our guy"
      ]
    },
    {
      "cell_type": "code",
      "metadata": {
        "id": "JnjYTpV3mPCV",
        "colab_type": "code",
        "colab": {
          "base_uri": "https://localhost:8080/",
          "height": 507
        },
        "outputId": "fe9d5b3f-2db9-4de8-e319-90d1d55b971f"
      },
      "source": [
        "print(df.shape)\n",
        "p = df.plot(x='Date', y='Close')\n",
        "p.set_xlabel('Date')\n",
        "p.set_ylabel('Price(USD)')"
      ],
      "execution_count": 7,
      "outputs": [
        {
          "output_type": "stream",
          "text": [
            "(3201, 7)\n"
          ],
          "name": "stdout"
        },
        {
          "output_type": "execute_result",
          "data": {
            "text/plain": [
              "Text(0, 0.5, 'Price(USD)')"
            ]
          },
          "metadata": {
            "tags": []
          },
          "execution_count": 7
        },
        {
          "output_type": "display_data",
          "data": {
            "image/png": "[encoded data removed]",
            "text/plain": [
              "<Figure size 864x576 with 1 Axes>"
            ]
          },
          "metadata": {
            "tags": []
          }
        }
      ]
    },
    {
      "cell_type": "markdown",
      "metadata": {
        "id": "eJQcwXJOoM0e",
        "colab_type": "text"
      },
      "source": [
        "The freq. of this data => Daily\n"
      ]
    },
    {
      "cell_type": "code",
      "metadata": {
        "id": "p-LPzkDFnYC6",
        "colab_type": "code",
        "colab": {}
      },
      "source": [
        "from sklearn.preprocessing import MinMaxScaler\n",
        "\n",
        "scalar = MinMaxScaler()\n",
        "close_price = df.Close.values.reshape(-1, 1)\n",
        "scaled_close = scalar.fit_transform(close_price)"
      ],
      "execution_count": 0,
      "outputs": []
    },
    {
      "cell_type": "code",
      "metadata": {
        "id": "BfY3G96tqK-L",
        "colab_type": "code",
        "colab": {
          "base_uri": "https://localhost:8080/",
          "height": 34
        },
        "outputId": "f19ec21d-f9ec-4530-83d5-676a42da3731"
      },
      "source": [
        "True in df.Close.isnull()"
      ],
      "execution_count": 20,
      "outputs": [
        {
          "output_type": "execute_result",
          "data": {
            "text/plain": [
              "True"
            ]
          },
          "metadata": {
            "tags": []
          },
          "execution_count": 20
        }
      ]
    },
    {
      "cell_type": "markdown",
      "metadata": {
        "id": "YoVoQubhqcK3",
        "colab_type": "text"
      },
      "source": [
        "Ok there are some missing values so need to handle them"
      ]
    },
    {
      "cell_type": "code",
      "metadata": {
        "id": "TyxvVTO8rKMO",
        "colab_type": "code",
        "colab": {}
      },
      "source": [
        "# Remove NaN values\n",
        "scaled_close = scaled_close[~np.isnan(scaled_close)]\n",
        "scaled_close = scaled_close.reshape(-1, 1)"
      ],
      "execution_count": 0,
      "outputs": []
    },
    {
      "cell_type": "markdown",
      "metadata": {
        "id": "CXVXjZ_zrwND",
        "colab_type": "text"
      },
      "source": [
        "---"
      ]
    },
    {
      "cell_type": "markdown",
      "metadata": {
        "id": "8igayYCarxtN",
        "colab_type": "text"
      },
      "source": [
        "#### Preparing Data and model Building"
      ]
    },
    {
      "cell_type": "markdown",
      "metadata": {
        "id": "Sb0zq78gr3Iz",
        "colab_type": "text"
      },
      "source": [
        "Lstm ip -> [batch_size, sequence_len, n_features]"
      ]
    },
    {
      "cell_type": "code",
      "metadata": {
        "id": "2dFHiGgDreS0",
        "colab_type": "code",
        "colab": {}
      },
      "source": [
        "seq_len = 100"
      ],
      "execution_count": 0,
      "outputs": []
    },
    {
      "cell_type": "code",
      "metadata": {
        "id": "fr2f3XyCsK34",
        "colab_type": "code",
        "colab": {}
      },
      "source": [
        "def to_seq(data, seq_len):\n",
        "  d = []\n",
        "\n",
        "  for i in range(len(data) - seq_len):\n",
        "    d.append(data[i: i + seq_len])\n",
        "  \n",
        "  d = np.array(d)\n",
        "  print('Shape of data', d.shape)\n",
        "  return d\n",
        "\n",
        "def preprocess(original_data, seq_len, train_split):\n",
        "  data = to_seq(original_data, seq_len)\n",
        "\n",
        "  num_train = int(train_split * data.shape[0])\n",
        "\n",
        "  x_train = data[:num_train, :-1, :]\n",
        "  y_train = data[:num_train, -1, :]\n",
        "\n",
        "  x_test = data[num_train:, :-1, :]\n",
        "  y_test = data[num_train:, -1, :]\n",
        "\n",
        "  return x_train, y_train, x_test, y_test"
      ],
      "execution_count": 0,
      "outputs": []
    },
    {
      "cell_type": "code",
      "metadata": {
        "id": "U4qbsKu-uKaj",
        "colab_type": "code",
        "colab": {
          "base_uri": "https://localhost:8080/",
          "height": 52
        },
        "outputId": "cd6beab1-3566-455b-c436-fb2cb3a9ac36"
      },
      "source": [
        "x_train, y_train, x_test, y_test = preprocess(scaled_close, seq_len, 0.95)\n",
        "\n",
        "print('X_train shape = ', x_train.shape)"
      ],
      "execution_count": 39,
      "outputs": [
        {
          "output_type": "stream",
          "text": [
            "Shape of data (3101, 100, 1)\n",
            "X_train shape =  (2945, 99, 1)\n"
          ],
          "name": "stdout"
        }
      ]
    },
    {
      "cell_type": "code",
      "metadata": {
        "id": "hYGo92YCwDQ_",
        "colab_type": "code",
        "colab": {
          "base_uri": "https://localhost:8080/",
          "height": 34
        },
        "outputId": "0740d641-0a60-428c-a315-36efde62841f"
      },
      "source": [
        "x_test.shape"
      ],
      "execution_count": 40,
      "outputs": [
        {
          "output_type": "execute_result",
          "data": {
            "text/plain": [
              "(156, 99, 1)"
            ]
          },
          "metadata": {
            "tags": []
          },
          "execution_count": 40
        }
      ]
    },
    {
      "cell_type": "code",
      "metadata": {
        "id": "8OFWLFPpwpgd",
        "colab_type": "code",
        "colab": {}
      },
      "source": [
        ""
      ],
      "execution_count": 0,
      "outputs": []
    }
  ]
}